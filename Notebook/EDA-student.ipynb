{
 "cells": [
  {
   "cell_type": "markdown",
   "metadata": {},
   "source": [
    "# Student Performance Indicator\n",
    "### Life cycle of Machine learning Project\n",
    "1) Understanding the Problem Statement\n",
    "2) Data Collection\n",
    "3) Data Checks to perform\n",
    "4) Exploratory data analysis\n",
    "5) Data Pre-Processing\n",
    "6) Model Training\n",
    "7) Choose best model"
   ]
  },
  {
   "cell_type": "code",
   "execution_count": null,
   "metadata": {},
   "outputs": [],
   "source": []
  },
  {
   "cell_type": "markdown",
   "metadata": {},
   "source": []
  }
 ],
 "metadata": {
  "language_info": {
   "name": "python"
  },
  "orig_nbformat": 4
 },
 "nbformat": 4,
 "nbformat_minor": 2
}
